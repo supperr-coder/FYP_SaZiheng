{
 "cells": [
  {
   "cell_type": "code",
   "execution_count": 1,
   "id": "80df04bb-3aa4-40cb-9eef-3efb9adf7a1b",
   "metadata": {},
   "outputs": [],
   "source": [
    "import pandas as pd\n",
    "from datetime import datetime\n",
    "import numpy as np\n",
    "from itertools import product\n",
    "\n",
    "from tqdm import tqdm_notebook\n",
    "\n",
    "import random\n",
    "\n",
    "import os\n",
    "\n",
    "import matplotlib.pyplot as plt\n",
    "from matplotlib.pyplot import figure\n",
    "from pylab import rcParams\n",
    "\n",
    "import seaborn as sns\n",
    "\n",
    "from sklearn import metrics\n",
    "from sklearn.metrics import r2_score, median_absolute_error, mean_absolute_error\n",
    "from sklearn.metrics import median_absolute_error, mean_squared_error, mean_squared_log_error\n",
    "\n",
    "from sklearn.preprocessing import MinMaxScaler\n",
    "\n",
    "from sklearn.model_selection import KFold\n",
    "\n",
    "import torch\n",
    "import torch.nn as nn\n",
    "from torch.autograd import Variable\n",
    "from torch.utils.data import DataLoader, Dataset, Subset\n",
    "\n",
    "import utils\n",
    "\n",
    "import warnings\n",
    "warnings.filterwarnings(\"ignore\")\n",
    "\n",
    "from scipy import stats\n",
    "\n",
    "import time"
   ]
  },
  {
   "cell_type": "markdown",
   "id": "d1808b2a-c6ba-49c3-8a7b-18fa5d335380",
   "metadata": {},
   "source": [
    "## Preprocessiong Data"
   ]
  },
  {
   "cell_type": "code",
   "execution_count": 2,
   "id": "effadf8e-c634-4c41-be75-667772632ea2",
   "metadata": {},
   "outputs": [],
   "source": [
    "summary1 = pd.read_csv(\"Baseline_Transformer_Summary_1.csv\")\n",
    "summary2 = pd.read_csv(\"Baseline_Transformer_Summary_2.csv\")\n",
    "summary3 = pd.read_csv(\"Baseline_Transformer_Summary_3.csv\")\n",
    "\n",
    "summary1 = summary1.rename(columns={'Unnamed: 0': 'item'})\n",
    "summary2 = summary2.rename(columns={'Unnamed: 0': 'item'})\n",
    "summary3 = summary3.rename(columns={'Unnamed: 0': 'item'})\n",
    "\n",
    "summary1 = summary1.set_index('item')\n",
    "summary2 = summary2.set_index('item')\n",
    "summary3 = summary3.set_index('item')\n",
    "\n",
    "summary_lstm = pd.concat([summary1, summary2, summary3], axis=0)"
   ]
  },
  {
   "cell_type": "code",
   "execution_count": 3,
   "id": "5d2c859c-ee8e-45be-b108-b64f6ee857b9",
   "metadata": {},
   "outputs": [],
   "source": [
    "summary_lstm.to_csv(\"Baseline_Transformer_Summary.csv\")"
   ]
  },
  {
   "cell_type": "code",
   "execution_count": 4,
   "id": "8638f566-3916-4b6a-b238-d5f785a15360",
   "metadata": {},
   "outputs": [],
   "source": [
    "summary1 = pd.read_csv(\"Transformer_error_modelling_Summary_1.csv\")\n",
    "summary2 = pd.read_csv(\"Transformer_error_modelling_Summary_2.csv\")\n",
    "summary3 = pd.read_csv(\"Transformer_error_modelling_Summary_3.csv\")\n",
    "\n",
    "summary1 = summary1.rename(columns={'Unnamed: 0': 'item'})\n",
    "summary2 = summary2.rename(columns={'Unnamed: 0': 'item'})\n",
    "summary3 = summary3.rename(columns={'Unnamed: 0': 'item'})\n",
    "\n",
    "summary1 = summary1.set_index('item')\n",
    "summary2 = summary2.set_index('item')\n",
    "summary3 = summary3.set_index('item')\n",
    "\n",
    "summary_lstm_w_residuals = pd.concat([summary1, summary2, summary3], axis=0)"
   ]
  },
  {
   "cell_type": "code",
   "execution_count": 5,
   "id": "c8134354-ae08-47c4-942e-b315f889dd7b",
   "metadata": {},
   "outputs": [],
   "source": [
    "summary_lstm_w_residuals.to_csv(\"Transformer_error_modelling_Summary.csv\")"
   ]
  },
  {
   "cell_type": "code",
   "execution_count": 6,
   "id": "da7ecf8f-c97f-4a23-b86a-923ee79e01e5",
   "metadata": {},
   "outputs": [],
   "source": [
    "summary1 = pd.read_csv(\"Baseline_LSTM_Summary_1.csv\")\n",
    "summary2 = pd.read_csv(\"Baseline_LSTM_Summary_2.csv\")\n",
    "summary3 = pd.read_csv(\"Baseline_LSTM_Summary_3.csv\")\n",
    "\n",
    "summary1 = summary1.rename(columns={'Unnamed: 0': 'item'})\n",
    "summary2 = summary2.rename(columns={'Unnamed: 0': 'item'})\n",
    "summary3 = summary3.rename(columns={'Unnamed: 0': 'item'})\n",
    "\n",
    "summary1 = summary1.set_index('item')\n",
    "summary2 = summary2.set_index('item')\n",
    "summary3 = summary3.set_index('item')\n",
    "\n",
    "summary_lstm = pd.concat([summary1, summary2, summary3], axis=0)\n",
    "\n",
    "summary_lstm.to_csv(\"Baseline_LSTM_Summary.csv\")"
   ]
  },
  {
   "cell_type": "code",
   "execution_count": 7,
   "id": "e1e04745-547a-4da6-b98a-c3c82d739e16",
   "metadata": {},
   "outputs": [],
   "source": [
    "summary1 = pd.read_csv(\"LSTM_error_modelling_Summary_1.csv\")\n",
    "summary2 = pd.read_csv(\"LSTM_error_modelling_Summary_2.csv\")\n",
    "summary3 = pd.read_csv(\"LSTM_error_modelling_Summary_3.csv\")\n",
    "\n",
    "summary1 = summary1.rename(columns={'Unnamed: 0': 'item'})\n",
    "summary2 = summary2.rename(columns={'Unnamed: 0': 'item'})\n",
    "summary3 = summary3.rename(columns={'Unnamed: 0': 'item'})\n",
    "\n",
    "summary1 = summary1.set_index('item')\n",
    "summary2 = summary2.set_index('item')\n",
    "summary3 = summary3.set_index('item')\n",
    "\n",
    "summary_lstm_w_residuals = pd.concat([summary1, summary2, summary3], axis=0)\n",
    "\n",
    "summary_lstm_w_residuals.to_csv(\"LSTM_error_modelling_Summary.csv\")"
   ]
  },
  {
   "cell_type": "markdown",
   "id": "843fa0ff-f044-4002-8e2a-c3bf05b74b97",
   "metadata": {},
   "source": [
    "## Analysis LSTM"
   ]
  },
  {
   "cell_type": "code",
   "execution_count": 8,
   "id": "bdf35b5d-8e02-4581-bf4c-394d87961e24",
   "metadata": {},
   "outputs": [],
   "source": [
    "summary = pd.read_csv(\"Baseline_LSTM_Summary.csv\").set_index(\"item\")\n",
    "summary_w_residuals = pd.read_csv(\"LSTM_error_modelling_Summary.csv\").set_index(\"item\")"
   ]
  },
  {
   "cell_type": "markdown",
   "id": "92aa664d-6c9c-44ef-b59c-facadfa90fd2",
   "metadata": {},
   "source": [
    "### Exp 1 and 2"
   ]
  },
  {
   "cell_type": "code",
   "execution_count": 9,
   "id": "b76d6304-263b-47cc-abef-23cc917f2e10",
   "metadata": {},
   "outputs": [],
   "source": [
    "baseline = summary.iloc[:, 2:4]\n",
    "baseline.columns = [\"rmse\", \"r2\"]\n",
    "\n",
    "model = summary_w_residuals.iloc[:, 2:4]\n",
    "model.columns = [\"rmse\", \"r2\"]"
   ]
  },
  {
   "cell_type": "markdown",
   "id": "046ff709-19a7-40b9-b797-bc15d9e09b48",
   "metadata": {},
   "source": [
    "#### rmse"
   ]
  },
  {
   "cell_type": "code",
   "execution_count": 10,
   "id": "2e708b4e-39b5-4fbb-9100-3c7369427161",
   "metadata": {},
   "outputs": [
    {
     "name": "stdout",
     "output_type": "stream",
     "text": [
      "Number of time series data with better test performance(rmse) after using residuals as feature:  27\n",
      "Number of time series data with worse test performance(rmse) after using residuals as feature:  423\n",
      "Number of time series data with same test performance(rmse) after using residuals as feature:  0\n"
     ]
    }
   ],
   "source": [
    "string_i = \"rmse\"\n",
    "\n",
    "better_test_index = model[model[string_i] < baseline[string_i]].index\n",
    "worse_test_index = model[model[string_i] > baseline[string_i]].index\n",
    "same_test_index = model[model[string_i] == baseline[string_i]].index\n",
    "\n",
    "print(\"Number of time series data with better test performance(rmse) after using residuals as feature: \", len(better_test_index))\n",
    "print(\"Number of time series data with worse test performance(rmse) after using residuals as feature: \",len(worse_test_index))\n",
    "print(\"Number of time series data with same test performance(rmse) after using residuals as feature: \",len(same_test_index))"
   ]
  },
  {
   "cell_type": "code",
   "execution_count": 12,
   "id": "bec2fa8b-1b5d-4f34-887a-65fed1eab856",
   "metadata": {},
   "outputs": [
    {
     "data": {
      "text/plain": [
       "[]"
      ]
     },
     "execution_count": 12,
     "metadata": {},
     "output_type": "execute_result"
    },
    {
     "data": {
      "image/png": "[encoded data removed]",
      "text/plain": [
       "<Figure size 504x432 with 1 Axes>"
      ]
     },
     "metadata": {
      "needs_background": "light"
     },
     "output_type": "display_data"
    }
   ],
   "source": [
    "plt.figure(figsize=(7, 6))\n",
    "plt.boxplot([baseline[string_i], model[string_i]], labels=[\"experiment 1\", \"experiment 2\"])\n",
    "plt.suptitle(\"Box Plot for Test RMSE Comparison between Experiment 1 and 2\")\n",
    "plt.plot()"
   ]
  },
  {
   "cell_type": "code",
   "execution_count": 13,
   "id": "6d3c9e53-1ff9-44ae-b7a4-2fc36918de96",
   "metadata": {},
   "outputs": [
    {
     "data": {
      "text/plain": [
       "[]"
      ]
     },
     "execution_count": 13,
     "metadata": {},
     "output_type": "execute_result"
    },
    {
     "data": {
      "image/png": "[encoded data removed]",
      "text/plain": [
       "<Figure size 504x432 with 1 Axes>"
      ]
     },
     "metadata": {
      "needs_background": "light"
     },
     "output_type": "display_data"
    }
   ],
   "source": [
    "differenced = baseline[string_i]-model[string_i]\n",
    "\n",
    "plt.figure(figsize=(7, 6))\n",
    "plt.boxplot(differenced, labels=[\"experiment 1 - experiment 2\"])\n",
    "plt.suptitle(\"Box Plot for difference in Test RMSE between Experiment 1 and 2\")\n",
    "plt.plot()"
   ]
  },
  {
   "cell_type": "markdown",
   "id": "d76600a7-47af-4cea-84f2-f6eb1d9e4544",
   "metadata": {},
   "source": [
    "#### r2"
   ]
  },
  {
   "cell_type": "code",
   "execution_count": 14,
   "id": "3161bda1-cd1c-4fa4-b0d7-61f4fdb5fcaf",
   "metadata": {},
   "outputs": [
    {
     "name": "stdout",
     "output_type": "stream",
     "text": [
      "Number of time series data with better test performance(r2) after using residuals as feature:  27\n",
      "Number of time series data with worse test performance(r2) after using residuals as feature:  412\n",
      "Number of time series data with same test performance(r2) after using residuals as feature:  11\n"
     ]
    }
   ],
   "source": [
    "string_i = \"r2\"\n",
    "\n",
    "better_test_index = model[model[string_i] > baseline[string_i]].index\n",
    "worse_test_index = model[model[string_i] < baseline[string_i]].index\n",
    "same_test_index = model[model[string_i] == baseline[string_i]].index\n",
    "\n",
    "print(\"Number of time series data with better test performance(r2) after using residuals as feature: \", len(better_test_index))\n",
    "print(\"Number of time series data with worse test performance(r2) after using residuals as feature: \",len(worse_test_index))\n",
    "print(\"Number of time series data with same test performance(r2) after using residuals as feature: \",len(same_test_index))"
   ]
  },
  {
   "cell_type": "code",
   "execution_count": 15,
   "id": "b580fc7f-5bc3-4e4c-be84-9ba8874bc121",
   "metadata": {},
   "outputs": [
    {
     "data": {
      "text/plain": [
       "[]"
      ]
     },
     "execution_count": 15,
     "metadata": {},
     "output_type": "execute_result"
    },
    {
     "data": {
      "image/png": "[encoded data removed]",
      "text/plain": [
       "<Figure size 504x432 with 1 Axes>"
      ]
     },
     "metadata": {
      "needs_background": "light"
     },
     "output_type": "display_data"
    }
   ],
   "source": [
    "plt.figure(figsize=(7, 6))\n",
    "plt.boxplot([baseline[string_i], model[string_i]], labels=[\"experiment 1\", \"experiment 2\"])\n",
    "plt.suptitle(\"Box Plot for Test R2 Comparison between Experiment 1 and 2\")\n",
    "plt.plot()"
   ]
  },
  {
   "cell_type": "code",
   "execution_count": 16,
   "id": "6140725f-4409-4a37-96bd-0e92ed00e931",
   "metadata": {},
   "outputs": [
    {
     "data": {
      "text/plain": [
       "[]"
      ]
     },
     "execution_count": 16,
     "metadata": {},
     "output_type": "execute_result"
    },
    {
     "data": {
      "image/png": "[encoded data removed]",
      "text/plain": [
       "<Figure size 504x432 with 1 Axes>"
      ]
     },
     "metadata": {
      "needs_background": "light"
     },
     "output_type": "display_data"
    }
   ],
   "source": [
    "differenced = baseline[string_i]-model[string_i]\n",
    "\n",
    "plt.figure(figsize=(7, 6))\n",
    "plt.boxplot(differenced, labels=[\"experiment 1 - experiment 2\"])\n",
    "plt.suptitle(\"Box Plot for difference in Test R2 between Experiment 1 and 2\")\n",
    "plt.plot()"
   ]
  },
  {
   "cell_type": "markdown",
   "id": "8a2cc88f-f07b-4fbe-bde6-1ac9aebc2200",
   "metadata": {},
   "source": [
    "#### T-squared"
   ]
  },
  {
   "cell_type": "code",
   "execution_count": 17,
   "id": "57434d14-3d66-4e9e-92f5-aeae8e4207d9",
   "metadata": {},
   "outputs": [],
   "source": [
    "baseline = np.array(baseline)\n",
    "model = np.array(model)"
   ]
  },
  {
   "cell_type": "code",
   "execution_count": 18,
   "id": "d2e5d4e0-17b3-4cd0-80db-1eea8802ebdc",
   "metadata": {},
   "outputs": [],
   "source": [
    "n = 450\n",
    "p = 2\n",
    "alpha = 0.05\n",
    "d = baseline - model\n",
    "d_ = d.mean(axis=0)\n",
    "S = np.cov(d, rowvar=False)"
   ]
  },
  {
   "cell_type": "code",
   "execution_count": 19,
   "id": "4806de1e-2b39-407c-bb67-83aba374fc40",
   "metadata": {},
   "outputs": [],
   "source": [
    "t2 = n*d_@np.linalg.inv(S)@d_.T\n",
    "chi = stats.chi2.ppf(1-alpha/p, p)"
   ]
  },
  {
   "cell_type": "code",
   "execution_count": 20,
   "id": "1ef0bd60-258d-4d37-93ab-c59baac5e1f0",
   "metadata": {},
   "outputs": [
    {
     "name": "stdout",
     "output_type": "stream",
     "text": [
      "test-statistics: 103.34647298431435, critical value: 7.377758908227871\n"
     ]
    }
   ],
   "source": [
    "print(f\"test-statistics: {t2}, critical value: {chi}\")"
   ]
  },
  {
   "cell_type": "code",
   "execution_count": 21,
   "id": "1528fc04-85c2-48e1-b38c-07d09eabfff4",
   "metadata": {},
   "outputs": [
    {
     "name": "stdout",
     "output_type": "stream",
     "text": [
      "Bonferroni SCIs for rmse: (-1.03590959042359, -0.6543630770452574)\n"
     ]
    }
   ],
   "source": [
    "j = 0\n",
    "upper_bound = d_[j]+stats.norm.ppf(1-alpha/(2*p))*np.sqrt(S[j, j]/n)\n",
    "lower_bound = d_[j]-stats.norm.ppf(1-alpha/(2*p))*np.sqrt(S[j, j]/n)\n",
    "print(f\"Bonferroni SCIs for rmse: ({lower_bound}, {upper_bound})\")"
   ]
  },
  {
   "cell_type": "code",
   "execution_count": 22,
   "id": "b23b41be-223f-4272-a6f4-01a950ce4686",
   "metadata": {},
   "outputs": [
    {
     "name": "stdout",
     "output_type": "stream",
     "text": [
      "Bonferroni SCIs for r2: (2.9515050796558273, 7.071727934990877)\n"
     ]
    }
   ],
   "source": [
    "j = 1\n",
    "upper_bound = d_[j]+stats.norm.ppf(1-alpha/(2*p))*np.sqrt(S[j, j]/n)\n",
    "lower_bound = d_[j]-stats.norm.ppf(1-alpha/(2*p))*np.sqrt(S[j, j]/n)\n",
    "print(f\"Bonferroni SCIs for r2: ({lower_bound}, {upper_bound})\")"
   ]
  },
  {
   "cell_type": "markdown",
   "id": "148afd2f-9772-48e5-877c-c9555061eee7",
   "metadata": {},
   "source": [
    "### Exp 1 and 3"
   ]
  },
  {
   "cell_type": "code",
   "execution_count": 60,
   "id": "e1c1639a-e457-4587-90f0-d132954c206d",
   "metadata": {},
   "outputs": [],
   "source": [
    "baseline = summary.iloc[:, 2:4]\n",
    "baseline.columns = [\"rmse\", \"r2\"]\n",
    "\n",
    "model = summary_w_residuals.iloc[:, 6:8]\n",
    "model.columns = [\"rmse\", \"r2\"]"
   ]
  },
  {
   "cell_type": "markdown",
   "id": "fca1fd88-6b96-4915-840b-045161474d1e",
   "metadata": {},
   "source": [
    "#### rmse"
   ]
  },
  {
   "cell_type": "code",
   "execution_count": 61,
   "id": "90abd3f1-f2e9-4c52-a6b4-2507d3da5d5c",
   "metadata": {},
   "outputs": [
    {
     "name": "stdout",
     "output_type": "stream",
     "text": [
      "Number of time series data with better test performance(rmse) after using residuals as feature:  136\n",
      "Number of time series data with worse test performance(rmse) after using residuals as feature:  314\n",
      "Number of time series data with same test performance(rmse) after using residuals as feature:  0\n"
     ]
    }
   ],
   "source": [
    "string_i = \"rmse\"\n",
    "\n",
    "better_test_index = model[model[string_i] < baseline[string_i]].index\n",
    "worse_test_index = model[model[string_i] > baseline[string_i]].index\n",
    "same_test_index = model[model[string_i] == baseline[string_i]].index\n",
    "\n",
    "print(\"Number of time series data with better test performance(rmse) after using residuals as feature: \", len(better_test_index))\n",
    "print(\"Number of time series data with worse test performance(rmse) after using residuals as feature: \",len(worse_test_index))\n",
    "print(\"Number of time series data with same test performance(rmse) after using residuals as feature: \",len(same_test_index))"
   ]
  },
  {
   "cell_type": "code",
   "execution_count": 62,
   "id": "d16fe726-c1a7-43f1-a694-3e4258ee9761",
   "metadata": {},
   "outputs": [
    {
     "data": {
      "text/plain": [
       "[]"
      ]
     },
     "execution_count": 62,
     "metadata": {},
     "output_type": "execute_result"
    },
    {
     "data": {
      "image/png": "[encoded data removed]",
      "text/plain": [
       "<Figure size 504x432 with 1 Axes>"
      ]
     },
     "metadata": {
      "needs_background": "light"
     },
     "output_type": "display_data"
    }
   ],
   "source": [
    "plt.figure(figsize=(7, 6))\n",
    "plt.boxplot([baseline[string_i], model[string_i]], labels=[\"experiment 1\", \"experiment 3\"])\n",
    "plt.suptitle(\"Box Plot for Test RMSE Comparison between Experiment 1 and 3\")\n",
    "plt.plot()"
   ]
  },
  {
   "cell_type": "code",
   "execution_count": 63,
   "id": "29885355-556d-40e9-a641-934f9e22b9da",
   "metadata": {},
   "outputs": [
    {
     "data": {
      "text/plain": [
       "[]"
      ]
     },
     "execution_count": 63,
     "metadata": {},
     "output_type": "execute_result"
    },
    {
     "data": {
      "image/png": "[encoded data removed]",
      "text/plain": [
       "<Figure size 504x432 with 1 Axes>"
      ]
     },
     "metadata": {
      "needs_background": "light"
     },
     "output_type": "display_data"
    }
   ],
   "source": [
    "differenced = baseline[string_i]-model[string_i]\n",
    "\n",
    "plt.figure(figsize=(7, 6))\n",
    "plt.boxplot(differenced, labels=[\"experiment 1 - experiment 3\"])\n",
    "plt.suptitle(\"Box Plot for difference in Test RMSE between Experiment 1 and 3\")\n",
    "plt.plot()"
   ]
  },
  {
   "cell_type": "markdown",
   "id": "97e11e3b-1826-4a29-bb79-cc591ad7dd77",
   "metadata": {},
   "source": [
    "#### r2"
   ]
  },
  {
   "cell_type": "code",
   "execution_count": 64,
   "id": "6e5daf53-b45c-4ca3-9c7e-7e0c655de887",
   "metadata": {},
   "outputs": [
    {
     "name": "stdout",
     "output_type": "stream",
     "text": [
      "Number of time series data with better test performance(r2) after using residuals as feature:  132\n",
      "Number of time series data with worse test performance(r2) after using residuals as feature:  307\n",
      "Number of time series data with same test performance(r2) after using residuals as feature:  11\n"
     ]
    }
   ],
   "source": [
    "string_i = \"r2\"\n",
    "\n",
    "better_test_index = model[model[string_i] > baseline[string_i]].index\n",
    "worse_test_index = model[model[string_i] < baseline[string_i]].index\n",
    "same_test_index = model[model[string_i] == baseline[string_i]].index\n",
    "\n",
    "print(\"Number of time series data with better test performance(r2) after using residuals as feature: \", len(better_test_index))\n",
    "print(\"Number of time series data with worse test performance(r2) after using residuals as feature: \",len(worse_test_index))\n",
    "print(\"Number of time series data with same test performance(r2) after using residuals as feature: \",len(same_test_index))"
   ]
  },
  {
   "cell_type": "code",
   "execution_count": 66,
   "id": "ee0358aa-d668-475a-8f0e-d4daa8f945bb",
   "metadata": {},
   "outputs": [
    {
     "data": {
      "text/plain": [
       "[]"
      ]
     },
     "execution_count": 66,
     "metadata": {},
     "output_type": "execute_result"
    },
    {
     "data": {
      "image/png": "[encoded data removed]",
      "text/plain": [
       "<Figure size 504x432 with 1 Axes>"
      ]
     },
     "metadata": {
      "needs_background": "light"
     },
     "output_type": "display_data"
    }
   ],
   "source": [
    "plt.figure(figsize=(7, 6))\n",
    "plt.boxplot([baseline[string_i], model[string_i]], labels=[\"experiment 1\", \"experiment 3\"])\n",
    "plt.suptitle(\"Box Plot for Test R2 Comparison between Experiment 1 and 3\")\n",
    "plt.plot()"
   ]
  },
  {
   "cell_type": "code",
   "execution_count": 67,
   "id": "7bd890ae-134e-4ab8-98c1-911ae2a886b0",
   "metadata": {},
   "outputs": [
    {
     "data": {
      "text/plain": [
       "[]"
      ]
     },
     "execution_count": 67,
     "metadata": {},
     "output_type": "execute_result"
    },
    {
     "data": {
      "image/png": "[encoded data removed]",
      "text/plain": [
       "<Figure size 504x432 with 1 Axes>"
      ]
     },
     "metadata": {
      "needs_background": "light"
     },
     "output_type": "display_data"
    }
   ],
   "source": [
    "differenced = baseline[string_i]-model[string_i]\n",
    "\n",
    "plt.figure(figsize=(7, 6))\n",
    "plt.boxplot(differenced, labels=[\"experiment 1 - experiment 3\"])\n",
    "plt.suptitle(\"Box Plot for difference in Test R2 between Experiment 1 and 3\")\n",
    "plt.plot()"
   ]
  },
  {
   "cell_type": "markdown",
   "id": "853a91a3-5543-40fc-a604-b0dd89cfb845",
   "metadata": {},
   "source": [
    "#### T-squared"
   ]
  },
  {
   "cell_type": "code",
   "execution_count": 30,
   "id": "dd278f42-2b85-4f26-bf76-667f2ea4413c",
   "metadata": {},
   "outputs": [],
   "source": [
    "baseline = np.array(baseline)\n",
    "model = np.array(model)"
   ]
  },
  {
   "cell_type": "code",
   "execution_count": 31,
   "id": "d47db334-d328-4f40-8c9d-3ecd92a0946b",
   "metadata": {},
   "outputs": [],
   "source": [
    "n = 450\n",
    "p = 2\n",
    "alpha = 0.05\n",
    "d = baseline - model\n",
    "d_ = d.mean(axis=0)\n",
    "S = np.cov(d, rowvar=False)\n",
    "t2 = n*d_@np.linalg.inv(S)@d_.T\n",
    "chi = stats.chi2.ppf(1-alpha/p, p)"
   ]
  },
  {
   "cell_type": "code",
   "execution_count": 32,
   "id": "28b6266e-1125-434c-b6c8-e31d7cb662e6",
   "metadata": {},
   "outputs": [
    {
     "name": "stdout",
     "output_type": "stream",
     "text": [
      "test-statistics: 7.065736552233603, critical value: 7.377758908227871\n"
     ]
    }
   ],
   "source": [
    "print(f\"test-statistics: {t2}, critical value: {chi}\")"
   ]
  },
  {
   "cell_type": "code",
   "execution_count": 33,
   "id": "4c148f09-4a09-4c53-b51c-c1015962180f",
   "metadata": {},
   "outputs": [
    {
     "name": "stdout",
     "output_type": "stream",
     "text": [
      "Bonferroni SCIs for rmse: (-0.2114953448473858, -0.01188658409059587)\n"
     ]
    }
   ],
   "source": [
    "j = 0\n",
    "upper_bound = d_[j]+stats.norm.ppf(1-alpha/(2*p))*np.sqrt(S[j, j]/n)\n",
    "lower_bound = d_[j]-stats.norm.ppf(1-alpha/(2*p))*np.sqrt(S[j, j]/n)\n",
    "print(f\"Bonferroni SCIs for rmse: ({lower_bound}, {upper_bound})\")"
   ]
  },
  {
   "cell_type": "code",
   "execution_count": 34,
   "id": "bf8c60f6-d71a-4d3a-a554-6d8cd308eca3",
   "metadata": {},
   "outputs": [
    {
     "name": "stdout",
     "output_type": "stream",
     "text": [
      "Bonferroni SCIs for r2: (-0.15112780117640223, 1.6901607932003326)\n"
     ]
    }
   ],
   "source": [
    "j = 1\n",
    "upper_bound = d_[j]+stats.norm.ppf(1-alpha/(2*p))*np.sqrt(S[j, j]/n)\n",
    "lower_bound = d_[j]-stats.norm.ppf(1-alpha/(2*p))*np.sqrt(S[j, j]/n)\n",
    "print(f\"Bonferroni SCIs for r2: ({lower_bound}, {upper_bound})\")"
   ]
  },
  {
   "cell_type": "markdown",
   "id": "aedcfc40-4442-400d-a13d-f4d7454b915c",
   "metadata": {},
   "source": [
    "## Analysis Transformer"
   ]
  },
  {
   "cell_type": "code",
   "execution_count": 68,
   "id": "6b9008cd-d023-49ef-b302-0d6b94d5e206",
   "metadata": {},
   "outputs": [],
   "source": [
    "summary = pd.read_csv(\"Baseline_Transformer_Summary.csv\").set_index(\"item\")\n",
    "summary_w_residuals = pd.read_csv(\"Transformer_error_modelling_Summary.csv\").set_index(\"item\")"
   ]
  },
  {
   "cell_type": "markdown",
   "id": "b9ef6d87-e24e-41bc-9ac5-38d4053331aa",
   "metadata": {},
   "source": [
    "### Exp 1 and 2"
   ]
  },
  {
   "cell_type": "code",
   "execution_count": 69,
   "id": "35ce104a-f05d-45c2-8593-dd7c7481df05",
   "metadata": {},
   "outputs": [],
   "source": [
    "baseline = summary.iloc[:, 2:4]\n",
    "baseline.columns = [\"rmse\", \"r2\"]\n",
    "\n",
    "model = summary_w_residuals.iloc[:, 2:4]\n",
    "model.columns = [\"rmse\", \"r2\"]"
   ]
  },
  {
   "cell_type": "markdown",
   "id": "73a0f6e1-01ee-4b9b-9d86-bc6f2329314e",
   "metadata": {},
   "source": [
    "#### rmse"
   ]
  },
  {
   "cell_type": "code",
   "execution_count": 70,
   "id": "c73133e0-3512-404a-a4dd-57babb7c0c0a",
   "metadata": {},
   "outputs": [
    {
     "name": "stdout",
     "output_type": "stream",
     "text": [
      "Number of time series data with better test performance(rmse) after using residuals as feature:  131\n",
      "Number of time series data with worse test performance(rmse) after using residuals as feature:  319\n",
      "Number of time series data with same test performance(rmse) after using residuals as feature:  0\n"
     ]
    }
   ],
   "source": [
    "string_i = \"rmse\"\n",
    "\n",
    "better_test_index = model[model[string_i] < baseline[string_i]].index\n",
    "worse_test_index = model[model[string_i] > baseline[string_i]].index\n",
    "same_test_index = model[model[string_i] == baseline[string_i]].index\n",
    "\n",
    "print(\"Number of time series data with better test performance(rmse) after using residuals as feature: \", len(better_test_index))\n",
    "print(\"Number of time series data with worse test performance(rmse) after using residuals as feature: \",len(worse_test_index))\n",
    "print(\"Number of time series data with same test performance(rmse) after using residuals as feature: \",len(same_test_index))"
   ]
  },
  {
   "cell_type": "code",
   "execution_count": 71,
   "id": "cb604cbe-4691-46c3-b1d2-4a3fc47b3e96",
   "metadata": {},
   "outputs": [
    {
     "data": {
      "text/plain": [
       "[]"
      ]
     },
     "execution_count": 71,
     "metadata": {},
     "output_type": "execute_result"
    },
    {
     "data": {
      "image/png": "[encoded data removed]",
      "text/plain": [
       "<Figure size 504x432 with 1 Axes>"
      ]
     },
     "metadata": {
      "needs_background": "light"
     },
     "output_type": "display_data"
    }
   ],
   "source": [
    "plt.figure(figsize=(7, 6))\n",
    "plt.boxplot([baseline[string_i], model[string_i]], labels=[\"experiment 1\", \"experiment 2\"])\n",
    "plt.suptitle(\"Box Plot for Test RMSE Comparison between Experiment 1 and 2\")\n",
    "plt.plot()"
   ]
  },
  {
   "cell_type": "code",
   "execution_count": 72,
   "id": "6ace542d-6673-46e6-95e3-1290e60ab133",
   "metadata": {},
   "outputs": [
    {
     "data": {
      "text/plain": [
       "[]"
      ]
     },
     "execution_count": 72,
     "metadata": {},
     "output_type": "execute_result"
    },
    {
     "data": {
      "image/png": "[encoded data removed]",
      "text/plain": [
       "<Figure size 504x432 with 1 Axes>"
      ]
     },
     "metadata": {
      "needs_background": "light"
     },
     "output_type": "display_data"
    }
   ],
   "source": [
    "differenced = baseline[string_i]-model[string_i]\n",
    "\n",
    "plt.figure(figsize=(7, 6))\n",
    "plt.boxplot(differenced, labels=[\"experiment 1 - experiment 2\"])\n",
    "plt.suptitle(\"Box Plot for difference in Test RMSE between Experiment 1 and 2\")\n",
    "plt.plot()"
   ]
  },
  {
   "cell_type": "markdown",
   "id": "b990ff19-75a0-4833-bd32-3b3173303f13",
   "metadata": {},
   "source": [
    "#### r2"
   ]
  },
  {
   "cell_type": "code",
   "execution_count": 73,
   "id": "8ebfe851-d2d8-4fa0-b974-1c3f0d8ef5c1",
   "metadata": {},
   "outputs": [
    {
     "name": "stdout",
     "output_type": "stream",
     "text": [
      "Number of time series data with better test performance(r2) after using residuals as feature:  126\n",
      "Number of time series data with worse test performance(r2) after using residuals as feature:  313\n",
      "Number of time series data with same test performance(r2) after using residuals as feature:  11\n"
     ]
    }
   ],
   "source": [
    "string_i = \"r2\"\n",
    "\n",
    "better_test_index = model[model[string_i] > baseline[string_i]].index\n",
    "worse_test_index = model[model[string_i] < baseline[string_i]].index\n",
    "same_test_index = model[model[string_i] == baseline[string_i]].index\n",
    "\n",
    "print(\"Number of time series data with better test performance(r2) after using residuals as feature: \", len(better_test_index))\n",
    "print(\"Number of time series data with worse test performance(r2) after using residuals as feature: \",len(worse_test_index))\n",
    "print(\"Number of time series data with same test performance(r2) after using residuals as feature: \",len(same_test_index))"
   ]
  },
  {
   "cell_type": "code",
   "execution_count": 74,
   "id": "c815cd01-4c55-40b6-bc43-86ab0727c20c",
   "metadata": {},
   "outputs": [
    {
     "data": {
      "text/plain": [
       "[]"
      ]
     },
     "execution_count": 74,
     "metadata": {},
     "output_type": "execute_result"
    },
    {
     "data": {
      "image/png": "[encoded data removed]",
      "text/plain": [
       "<Figure size 504x432 with 1 Axes>"
      ]
     },
     "metadata": {
      "needs_background": "light"
     },
     "output_type": "display_data"
    }
   ],
   "source": [
    "plt.figure(figsize=(7, 6))\n",
    "plt.boxplot([baseline[string_i], model[string_i]], labels=[\"experiment 1\", \"experiment 2\"])\n",
    "plt.suptitle(\"Box Plot for Test R2 Comparison between Experiment 1 and 2\")\n",
    "plt.plot()"
   ]
  },
  {
   "cell_type": "code",
   "execution_count": 75,
   "id": "2d8c9bd9-0065-43d0-83de-227f13fb7872",
   "metadata": {},
   "outputs": [
    {
     "data": {
      "text/plain": [
       "[]"
      ]
     },
     "execution_count": 75,
     "metadata": {},
     "output_type": "execute_result"
    },
    {
     "data": {
      "image/png": "[encoded data removed]",
      "text/plain": [
       "<Figure size 504x432 with 1 Axes>"
      ]
     },
     "metadata": {
      "needs_background": "light"
     },
     "output_type": "display_data"
    }
   ],
   "source": [
    "differenced = baseline[string_i]-model[string_i]\n",
    "\n",
    "plt.figure(figsize=(7, 6))\n",
    "plt.boxplot(differenced, labels=[\"experiment 1 - experiment 2\"])\n",
    "plt.suptitle(\"Box Plot for difference in Test R2 between Experiment 1 and 2\")\n",
    "plt.plot()"
   ]
  },
  {
   "cell_type": "markdown",
   "id": "247694c6-43ee-4b14-b6a1-f275167da3b7",
   "metadata": {},
   "source": [
    "#### T-squared"
   ]
  },
  {
   "cell_type": "code",
   "execution_count": 76,
   "id": "4a51bf31-0269-4319-b2bb-0fb459281f81",
   "metadata": {},
   "outputs": [],
   "source": [
    "baseline = np.array(baseline)\n",
    "model = np.array(model)"
   ]
  },
  {
   "cell_type": "code",
   "execution_count": 77,
   "id": "a76965d0-6f89-4457-8453-605fa679de4e",
   "metadata": {},
   "outputs": [],
   "source": [
    "n = 450\n",
    "p = 2\n",
    "alpha = 0.05\n",
    "d = baseline - model\n",
    "d_ = d.mean(axis=0)\n",
    "S = np.cov(d, rowvar=False)\n",
    "t2 = n*d_@np.linalg.inv(S)@d_.T\n",
    "chi = stats.chi2.ppf(1-alpha/p, p)"
   ]
  },
  {
   "cell_type": "code",
   "execution_count": 78,
   "id": "332d48ef-1abb-4085-bd88-0a85ce4e9000",
   "metadata": {},
   "outputs": [
    {
     "name": "stdout",
     "output_type": "stream",
     "text": [
      "test-statistics: 9.958869062261028, critical value: 7.377758908227871\n"
     ]
    }
   ],
   "source": [
    "print(f\"test-statistics: {t2}, critical value: {chi}\")"
   ]
  },
  {
   "cell_type": "code",
   "execution_count": 79,
   "id": "ee75bf89-bc53-44c5-8584-14556b61e076",
   "metadata": {},
   "outputs": [
    {
     "name": "stdout",
     "output_type": "stream",
     "text": [
      "Bonferroni SCIs for rmse: (-0.1281768163161868, -0.018559763303049058)\n"
     ]
    }
   ],
   "source": [
    "j = 0\n",
    "upper_bound = d_[j]+stats.norm.ppf(1-alpha/(2*p))*np.sqrt(S[j, j]/n)\n",
    "lower_bound = d_[j]-stats.norm.ppf(1-alpha/(2*p))*np.sqrt(S[j, j]/n)\n",
    "print(f\"Bonferroni SCIs for rmse: ({lower_bound}, {upper_bound})\")"
   ]
  },
  {
   "cell_type": "code",
   "execution_count": 80,
   "id": "4dea6303-600a-4f90-9394-43d1c272a9d8",
   "metadata": {},
   "outputs": [
    {
     "name": "stdout",
     "output_type": "stream",
     "text": [
      "Bonferroni SCIs for r2: (0.021989503222739043, 0.20830156689956972)\n"
     ]
    }
   ],
   "source": [
    "j = 1\n",
    "upper_bound = d_[j]+stats.norm.ppf(1-alpha/(2*p))*np.sqrt(S[j, j]/n)\n",
    "lower_bound = d_[j]-stats.norm.ppf(1-alpha/(2*p))*np.sqrt(S[j, j]/n)\n",
    "print(f\"Bonferroni SCIs for r2: ({lower_bound}, {upper_bound})\")"
   ]
  },
  {
   "cell_type": "markdown",
   "id": "9623e246-56f3-4909-af13-efca369a997f",
   "metadata": {},
   "source": [
    "### Exp 1 and 3"
   ]
  },
  {
   "cell_type": "code",
   "execution_count": 94,
   "id": "654b40af-5819-4f6a-8ffd-00b73e760d0e",
   "metadata": {},
   "outputs": [],
   "source": [
    "baseline = summary.iloc[:, 2:4]\n",
    "baseline.columns = [\"rmse\", \"r2\"]\n",
    "\n",
    "model = summary_w_residuals.iloc[:, 6:8]\n",
    "model.columns = [\"rmse\", \"r2\"]"
   ]
  },
  {
   "cell_type": "markdown",
   "id": "980ab3d6-b575-46ef-b669-afadc4e86d3c",
   "metadata": {},
   "source": [
    "#### rmse"
   ]
  },
  {
   "cell_type": "code",
   "execution_count": 95,
   "id": "bc9628d9-f8c8-40e4-9191-0d2a8ce64b95",
   "metadata": {},
   "outputs": [
    {
     "name": "stdout",
     "output_type": "stream",
     "text": [
      "Number of time series data with better test performance(rmse) after using residuals as feature:  136\n",
      "Number of time series data with worse test performance(rmse) after using residuals as feature:  314\n",
      "Number of time series data with same test performance(rmse) after using residuals as feature:  0\n"
     ]
    }
   ],
   "source": [
    "string_i = \"rmse\"\n",
    "\n",
    "better_test_index = model[model[string_i] < baseline[string_i]].index\n",
    "worse_test_index = model[model[string_i] > baseline[string_i]].index\n",
    "same_test_index = model[model[string_i] == baseline[string_i]].index\n",
    "\n",
    "print(\"Number of time series data with better test performance(rmse) after using residuals as feature: \", len(better_test_index))\n",
    "print(\"Number of time series data with worse test performance(rmse) after using residuals as feature: \",len(worse_test_index))\n",
    "print(\"Number of time series data with same test performance(rmse) after using residuals as feature: \",len(same_test_index))"
   ]
  },
  {
   "cell_type": "code",
   "execution_count": 96,
   "id": "6bbd945c-4246-422c-8cad-e5516bdc5063",
   "metadata": {},
   "outputs": [
    {
     "data": {
      "text/plain": [
       "[]"
      ]
     },
     "execution_count": 96,
     "metadata": {},
     "output_type": "execute_result"
    },
    {
     "data": {
      "image/png": "[encoded data removed]",
      "text/plain": [
       "<Figure size 504x432 with 1 Axes>"
      ]
     },
     "metadata": {
      "needs_background": "light"
     },
     "output_type": "display_data"
    }
   ],
   "source": [
    "plt.figure(figsize=(7, 6))\n",
    "plt.boxplot([baseline[string_i], model[string_i]], labels=[\"experiment 1\", \"experiment 3\"])\n",
    "plt.suptitle(\"Box Plot for Test RMSE Comparison between Experiment 1 and 3\")\n",
    "plt.plot()"
   ]
  },
  {
   "cell_type": "code",
   "execution_count": 97,
   "id": "1ecdb351-736f-40e4-9214-d56afa7b4d4b",
   "metadata": {},
   "outputs": [
    {
     "data": {
      "text/plain": [
       "[]"
      ]
     },
     "execution_count": 97,
     "metadata": {},
     "output_type": "execute_result"
    },
    {
     "data": {
      "image/png": "[encoded data removed]",
      "text/plain": [
       "<Figure size 504x432 with 1 Axes>"
      ]
     },
     "metadata": {
      "needs_background": "light"
     },
     "output_type": "display_data"
    }
   ],
   "source": [
    "differenced = baseline[string_i]-model[string_i]\n",
    "\n",
    "plt.figure(figsize=(7, 6))\n",
    "plt.boxplot(differenced, labels=[\"experiment 1 - experiment 3\"])\n",
    "plt.suptitle(\"Box Plot for difference in Test RMSE between Experiment 1 and 3\")\n",
    "plt.plot()"
   ]
  },
  {
   "cell_type": "markdown",
   "id": "62338146-7974-4b77-b2a9-2b366ec74104",
   "metadata": {},
   "source": [
    "#### r2"
   ]
  },
  {
   "cell_type": "code",
   "execution_count": 98,
   "id": "395a17ce-357a-46c2-b67d-4e441b8dfdf4",
   "metadata": {},
   "outputs": [
    {
     "name": "stdout",
     "output_type": "stream",
     "text": [
      "Number of time series data with better test performance(r2) after using residuals as feature:  132\n",
      "Number of time series data with worse test performance(r2) after using residuals as feature:  307\n",
      "Number of time series data with same test performance(r2) after using residuals as feature:  11\n"
     ]
    }
   ],
   "source": [
    "string_i = \"r2\"\n",
    "\n",
    "better_test_index = model[model[string_i] > baseline[string_i]].index\n",
    "worse_test_index = model[model[string_i] < baseline[string_i]].index\n",
    "same_test_index = model[model[string_i] == baseline[string_i]].index\n",
    "\n",
    "print(\"Number of time series data with better test performance(r2) after using residuals as feature: \", len(better_test_index))\n",
    "print(\"Number of time series data with worse test performance(r2) after using residuals as feature: \",len(worse_test_index))\n",
    "print(\"Number of time series data with same test performance(r2) after using residuals as feature: \",len(same_test_index))"
   ]
  },
  {
   "cell_type": "markdown",
   "id": "6872e093-ce34-488a-903d-db1fe81beb32",
   "metadata": {},
   "source": [
    "plt.figure(figsize=(7, 6))\n",
    "plt.boxplot([baseline[string_i], model[string_i]], labels=[\"experiment 1\", \"experiment 2\"])\n",
    "plt.suptitle(\"Box Plot for Test R2 Comparison between Experiment 1 and 2\")\n",
    "plt.plot()"
   ]
  },
  {
   "cell_type": "code",
   "execution_count": 99,
   "id": "3df668b1-8693-4212-825c-2576aae31ad7",
   "metadata": {},
   "outputs": [
    {
     "data": {
      "text/plain": [
       "[]"
      ]
     },
     "execution_count": 99,
     "metadata": {},
     "output_type": "execute_result"
    },
    {
     "data": {
      "image/png": "[encoded data removed]",
      "text/plain": [
       "<Figure size 504x432 with 1 Axes>"
      ]
     },
     "metadata": {
      "needs_background": "light"
     },
     "output_type": "display_data"
    }
   ],
   "source": [
    "plt.figure(figsize=(7, 6))\n",
    "plt.boxplot([baseline[string_i], model[string_i]], labels=[\"experiment 1\", \"experiment 3\"])\n",
    "plt.suptitle(\"Box Plot for Test RMSE Comparison between Experiment 1 and 3\")\n",
    "plt.plot()"
   ]
  },
  {
   "cell_type": "code",
   "execution_count": 100,
   "id": "09caff07-9162-496b-8208-aaeaffc1e5b9",
   "metadata": {},
   "outputs": [
    {
     "data": {
      "text/plain": [
       "[]"
      ]
     },
     "execution_count": 100,
     "metadata": {},
     "output_type": "execute_result"
    },
    {
     "data": {
      "image/png": "[encoded data removed]",
      "text/plain": [
       "<Figure size 504x432 with 1 Axes>"
      ]
     },
     "metadata": {
      "needs_background": "light"
     },
     "output_type": "display_data"
    }
   ],
   "source": [
    "differenced = baseline[string_i]-model[string_i]\n",
    "\n",
    "plt.figure(figsize=(7, 6))\n",
    "plt.boxplot(differenced, labels=[\"experiment 1 - experiment 3\"])\n",
    "plt.suptitle(\"Box Plot for difference in Test R2 between Experiment 1 and 3\")\n",
    "plt.plot()"
   ]
  },
  {
   "cell_type": "markdown",
   "id": "8f125d31-86bd-496b-b47f-a123445567ec",
   "metadata": {},
   "source": [
    "#### T-squared"
   ]
  },
  {
   "cell_type": "code",
   "execution_count": 101,
   "id": "41ddd2e7-5afa-4677-905e-fdd18a417f86",
   "metadata": {},
   "outputs": [],
   "source": [
    "baseline = np.array(baseline)\n",
    "model = np.array(model)"
   ]
  },
  {
   "cell_type": "code",
   "execution_count": 102,
   "id": "e278bff0-31e1-4584-83a2-ed5cd00d4163",
   "metadata": {},
   "outputs": [],
   "source": [
    "n = 450\n",
    "p = 2\n",
    "alpha = 0.05\n",
    "d = baseline - model\n",
    "d_ = d.mean(axis=0)\n",
    "S = np.cov(d, rowvar=False)\n",
    "t2 = n*d_@np.linalg.inv(S)@d_.T\n",
    "chi = stats.chi2.ppf(1-alpha/p, p)"
   ]
  },
  {
   "cell_type": "code",
   "execution_count": 103,
   "id": "25d75f83-539a-4350-b2d0-1c2b72eda2a7",
   "metadata": {},
   "outputs": [
    {
     "name": "stdout",
     "output_type": "stream",
     "text": [
      "test-statistics: 1.7487907737751502, critical value: 7.377758908227871\n"
     ]
    }
   ],
   "source": [
    "print(f\"test-statistics: {t2}, critical value: {chi}\")"
   ]
  },
  {
   "cell_type": "code",
   "execution_count": 104,
   "id": "17025933-aa88-4206-bf3c-c294c2768006",
   "metadata": {},
   "outputs": [
    {
     "name": "stdout",
     "output_type": "stream",
     "text": [
      "Bonferroni SCIs for rmse: (-0.04201204791651993, 0.022049638075117152)\n"
     ]
    }
   ],
   "source": [
    "j = 0\n",
    "upper_bound = d_[j]+stats.norm.ppf(1-alpha/(2*p))*np.sqrt(S[j, j]/n)\n",
    "lower_bound = d_[j]-stats.norm.ppf(1-alpha/(2*p))*np.sqrt(S[j, j]/n)\n",
    "print(f\"Bonferroni SCIs for rmse: ({lower_bound}, {upper_bound})\")"
   ]
  },
  {
   "cell_type": "code",
   "execution_count": 105,
   "id": "1a0b0e97-e3aa-4949-a6c0-e43b30a6be73",
   "metadata": {},
   "outputs": [
    {
     "name": "stdout",
     "output_type": "stream",
     "text": [
      "Bonferroni SCIs for r2: (-0.03293543084645389, 0.12772038439915398)\n"
     ]
    }
   ],
   "source": [
    "j = 1\n",
    "upper_bound = d_[j]+stats.norm.ppf(1-alpha/(2*p))*np.sqrt(S[j, j]/n)\n",
    "lower_bound = d_[j]-stats.norm.ppf(1-alpha/(2*p))*np.sqrt(S[j, j]/n)\n",
    "print(f\"Bonferroni SCIs for r2: ({lower_bound}, {upper_bound})\")"
   ]
  },
  {
   "cell_type": "code",
   "execution_count": null,
   "id": "07bf56c8-5700-44e6-b0db-6f6bcdab05ce",
   "metadata": {},
   "outputs": [],
   "source": []
  }
 ],
 "metadata": {
  "kernelspec": {
   "display_name": "Python 3 (ipykernel)",
   "language": "python",
   "name": "python3"
  },
  "language_info": {
   "codemirror_mode": {
    "name": "ipython",
    "version": 3
   },
   "file_extension": ".py",
   "mimetype": "text/x-python",
   "name": "python",
   "nbconvert_exporter": "python",
   "pygments_lexer": "ipython3",
   "version": "3.9.7"
  }
 },
 "nbformat": 4,
 "nbformat_minor": 5
}
